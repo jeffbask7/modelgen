{
 "cells": [
  {
   "cell_type": "code",
   "execution_count": null,
   "metadata": {},
   "outputs": [],
   "source": [
    "import earthkit as ekt\n",
    "import pygrib\n",
    "import numpy as np\n",
    "import cartopy.crs as ccrs\n",
    "import cartopy.feature as cfeature\n",
    "import cartopy.io.shapereader as shpreader\n",
    "from cartopy.feature import ShapelyFeature"
   ]
  },
  {
   "cell_type": "code",
   "execution_count": null,
   "metadata": {},
   "outputs": [],
   "source": [
    "model = 'gfs-test'\n",
    "gribFile = rf'data/gribs/{model.lower()}/latest/{model.lower()}-latest.grb2'\n",
    "#gribFile = rf'data/gribs/{model.lower()}/maxmin/{model.lower()}-036.grb2'\n",
    "ds = ekt.data.from_source('file', gribFile)\n"
   ]
  },
  {
   "cell_type": "code",
   "execution_count": null,
   "metadata": {},
   "outputs": [],
   "source": [
    "grbs = pygrib.open(gribFile)\n",
    "for grb in grbs:\n",
    "    print(grb)"
   ]
  },
  {
   "cell_type": "code",
   "execution_count": null,
   "metadata": {},
   "outputs": [],
   "source": [
    "print(ds.ls())"
   ]
  },
  {
   "cell_type": "code",
   "execution_count": null,
   "metadata": {},
   "outputs": [],
   "source": [
    "steps = []\n",
    "for ts in ds:\n",
    "    #print(ts.ls())\n",
    "    #print('name ', ts.metadata('name'), 'param num ', ts.metadata('parameterNumber'))\n",
    "    #print('step ', ts.metadata('step'))\n",
    "    step = ts.metadata('step')\n",
    "    if step not in steps:\n",
    "        steps.append(step)\n",
    "\n",
    "print(steps)\n",
    "\n"
   ]
  },
  {
   "cell_type": "code",
   "execution_count": null,
   "metadata": {},
   "outputs": [],
   "source": [
    "for step in steps:\n",
    "    ts = ds.sel(step=step, stepType='instant')\n",
    "    ts = ts.sel(shortName = ['cfrzr', 'csnow', 'cicep', 'refc', 'prmsl'])\n",
    "    print(ts.ls())"
   ]
  },
  {
   "cell_type": "code",
   "execution_count": null,
   "metadata": {},
   "outputs": [],
   "source": [
    "pressure = ts.sel(shortName = 'prmsl')\n",
    "refc = ts.sel(shortName = 'refc')\n",
    "csnow = ts.sel(shortName = 'csnow')[0]\n",
    "cicep = ts.sel(shortName = 'cicep')[0]\n",
    "cfrzr = ts.sel(shortName = 'cfrzr')[0]\n",
    "refc_np = refc.to_numpy()\n",
    "csnow_np = csnow.to_numpy()\n",
    "cfrzr_np = cfrzr.to_numpy()\n",
    "cicep_np = cicep.to_numpy()\n",
    "refc_snow = np.squeeze(np.where(csnow_np == 1, refc_np, 0) + 100)\n",
    "refc_ice = np.squeeze(np.where((cfrzr_np == 1) | (cicep_np == 1), refc_np, 0) + 200)\n"
   ]
  },
  {
   "cell_type": "code",
   "execution_count": null,
   "metadata": {},
   "outputs": [],
   "source": [
    "\n",
    "refc_snow_field = ts[0].clone(values=refc_snow)\n",
    "refc_ice_field = ts[0].clone(values=refc_ice)"
   ]
  },
  {
   "cell_type": "code",
   "execution_count": null,
   "metadata": {},
   "outputs": [],
   "source": [
    "import matplotlib.colors as mcolors\n",
    "\n",
    "color_values_refc = {\n",
    "    5: '#FFFFFF00',\n",
    "    10: '#00FF0088',\n",
    "    20: 'green',\n",
    "    30: 'yellow',\n",
    "    40: 'orange',\n",
    "    50: 'red',\n",
    "    60: 'purple',\n",
    "    70: 'pink',\n",
    "    80: 'orange'\n",
    "}\n",
    "\n",
    "# Create the normalized bounds (0 to 1) for the colormap\n",
    "\"\"\" norm = mcolors.Normalize(vmin=min(color_values_refc.keys()), vmax=max(color_values_refc.keys()))\n",
    "# Create a LinearSegmentedColormap\n",
    "cmap_refc = mcolors.LinearSegmentedColormap.from_list(\n",
    "    'colormap_refc',\n",
    "    [(norm(value), color) for value, color in color_values_refc.items()]\n",
    ") \"\"\"\n",
    "\n",
    "norm = mcolors.BoundaryNorm(\n",
    "    boundaries=list(color_values_refc.keys()),\n",
    "    ncolors=len(color_values_refc),\n",
    "    extend='neither' )\n",
    "\n",
    "values = list(color_values_refc.values())\n",
    "levels = list(color_values_refc.keys())\n",
    "print(levels)\n",
    "print(values)\n",
    "cmap = mcolors.ListedColormap(values)\n",
    "\n",
    "norm = mcolors.BoundaryNorm(levels, ncolors=cmap.N, extend='neither')\n",
    "\n",
    "color_values_refc_snow = {\n",
    "    105: '#FFFFFF00',\n",
    "    110: '#0000FF88',\n",
    "    120: 'aqua',\n",
    "    130: 'blue',\n",
    "    140: 'purple',\n",
    "    150: 'pink',\n",
    "    160: 'white',\n",
    "    170: 'green',\n",
    "    180: 'orange'\n",
    "}\n",
    "\n",
    "# Create the normalized bounds (0 to 1) for the colormap\n",
    "\"\"\" norm = mcolors.Normalize(vmin=min(color_values_refc.keys()), vmax=max(color_values_refc.keys()))\n",
    "# Create a LinearSegmentedColormap\n",
    "cmap_refc = mcolors.LinearSegmentedColormap.from_list(\n",
    "    'colormap_refc',\n",
    "    [(norm(value), color) for value, color in color_values_refc.items()]\n",
    ") \"\"\"\n",
    "\n",
    "norm_snow = mcolors.BoundaryNorm(\n",
    "    boundaries=list(color_values_refc_snow.keys()),\n",
    "    ncolors=len(color_values_refc_snow),\n",
    "    extend='neither' )\n",
    "\n",
    "values_snow = list(color_values_refc_snow.values())\n",
    "levels_snow = list(color_values_refc_snow.keys())\n",
    "print(levels_snow)\n",
    "print(values_snow)\n",
    "cmap_snow = mcolors.ListedColormap(values_snow)\n",
    "\n",
    "norm_snow = mcolors.BoundaryNorm(levels_snow, ncolors=cmap_snow.N, extend='neither')\n",
    "\n",
    "color_values_refc_ice = {\n",
    "    205: '#FFFFFF00',\n",
    "    210: '#FF000088',\n",
    "    220: 'red',\n",
    "    230: 'yellow',\n",
    "    240: 'green',\n",
    "    250: 'brown',\n",
    "    260: 'white',\n",
    "    270: 'blue',\n",
    "    280: 'black'\n",
    "}\n",
    "\n",
    "# Create the normalized bounds (0 to 1) for the colormap\n",
    "\"\"\" norm = mcolors.Normalize(vmin=min(color_values_refc.keys()), vmax=max(color_values_refc.keys()))\n",
    "# Create a LinearSegmentedColormap\n",
    "cmap_refc = mcolors.LinearSegmentedColormap.from_list(\n",
    "    'colormap_refc',\n",
    "    [(norm(value), color) for value, color in color_values_refc.items()]\n",
    ") \"\"\"\n",
    "\n",
    "norm_ice = mcolors.BoundaryNorm(\n",
    "    boundaries=list(color_values_refc_ice.keys()),\n",
    "    ncolors=len(color_values_refc_ice),\n",
    "    extend='neither' )\n",
    "\n",
    "values_ice = list(color_values_refc_ice.values())\n",
    "levels_ice = list(color_values_refc_ice.keys())\n",
    "print(levels_ice)\n",
    "print(values_ice)\n",
    "cmap_ice = mcolors.ListedColormap(values_ice)\n",
    "\n",
    "norm_ice = mcolors.BoundaryNorm(levels_ice, ncolors=cmap_ice.N, extend='neither')\n",
    "\n",
    "STYLE = ekt.plots.styles.Style(\n",
    "    colors=\"Spectral_r\",\n",
    "    levels=range(15, 33),\n",
    "    #units=\"celsius\",\n",
    "    ticks=range(15, 33),\n",
    ")\n",
    "\n",
    "STYLE = ekt.plots.styles.Style(levels=levels, cmap=cmap, extend='neither')\n",
    "STYLE_SNOW = ekt.plots.styles.Style(levels=levels_snow, cmap=cmap_snow, extend='neither', legend_style='None')\n",
    "STYLE_ICE = ekt.plots.styles.Style(levels=levels_ice, cmap=cmap_ice, extend='neither', legend_style='None')"
   ]
  },
  {
   "cell_type": "code",
   "execution_count": null,
   "metadata": {},
   "outputs": [],
   "source": [
    "import os\n",
    "print(os.getcwd())\n",
    "shapefile_path = \"data/geo/ne_110m_admin_1_states_provinces/ne_110m_admin_1_states_provinces.shp\"\n",
    "shapefile_path_lakes = \"data/geo/ne_110m_lakes/ne_110m_lakes.shp\"\n",
    "# Read the shapefile using Cartopy's Shapereader\n",
    "shape_data = shpreader.Reader(shapefile_path)\n",
    "shape_data_lakes = shpreader.Reader(shapefile_path_lakes)\n",
    "# Extract features from the shapefile\n",
    "states = ShapelyFeature(shape_data.geometries(), ccrs.PlateCarree(), facecolor=\"none\", edgecolor=\"none\")\n",
    "lakes = ShapelyFeature(shape_data_lakes.geometries(), ccrs.PlateCarree(), facecolor=\"none\", edgecolor=\"none\")"
   ]
  },
  {
   "cell_type": "code",
   "execution_count": null,
   "metadata": {},
   "outputs": [],
   "source": [
    "domain_bounds = [-130,-62,22,52]\n",
    "#domain_bounds = [-140,-60,20,90]\n",
    "crs = ccrs.PlateCarree()\n",
    "#chart = earthkit.plots.Map(domain=\"CONUS\")\n",
    "chart = ekt.plots.Map(domain=domain_bounds, crs=crs)\n",
    "chart.contourf(refc, style=STYLE)\n",
    "chart.contourf(refc_snow_field, style=STYLE_SNOW)\n",
    "chart.plot(refc_ice_field, style=STYLE_ICE)\n",
    "\n",
    "#chart.contour(pressure, units=\"hPa\")\n",
    "chart.shapes(states,  transform=ccrs.PlateCarree(), adjust_labels=False, labels=False, facecolor=\"none\",  # No fill color\n",
    "    edgecolor=\"black\",  # Blue outline\n",
    "    linewidth=0.5,     # Line thickness\n",
    "    alpha=0.7)\n",
    "chart.shapes(lakes,  transform=ccrs.PlateCarree(), adjust_labels=False, labels=False, facecolor=\"none\",  # No fill color\n",
    "    edgecolor=\"black\",  # Blue outline\n",
    "    linewidth=0.5,     # Line thickness\n",
    "    alpha=0.7)\n",
    "chart.legend(location=\"bottom\")\n",
    "\n",
    "chart.coastlines()\n",
    "chart.borders()\n",
    "#chart.urban_areas()\n",
    "chart.title()\n",
    "#chart.gridlines()\n",
    "\n",
    "\n",
    "chart.show()"
   ]
  },
  {
   "cell_type": "code",
   "execution_count": null,
   "metadata": {},
   "outputs": [],
   "source": [
    "print(dir(chart))"
   ]
  },
  {
   "cell_type": "code",
   "execution_count": null,
   "metadata": {},
   "outputs": [],
   "source": [
    "dsm = ds[12].metadata()\n",
    "print(dir(dsm))\n",
    "keys = dsm.keys()\n",
    "for key in list(keys):\n",
    "    print(key)"
   ]
  },
  {
   "cell_type": "code",
   "execution_count": null,
   "metadata": {},
   "outputs": [],
   "source": [
    "ds1.metadata('parameterNumber')"
   ]
  }
 ],
 "metadata": {
  "kernelspec": {
   "display_name": ".venv",
   "language": "python",
   "name": "python3"
  },
  "language_info": {
   "codemirror_mode": {
    "name": "ipython",
    "version": 3
   },
   "file_extension": ".py",
   "mimetype": "text/x-python",
   "name": "python",
   "nbconvert_exporter": "python",
   "pygments_lexer": "ipython3",
   "version": "3.12.3"
  }
 },
 "nbformat": 4,
 "nbformat_minor": 2
}
